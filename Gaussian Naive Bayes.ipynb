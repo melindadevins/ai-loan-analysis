{
 "cells": [
  {
   "cell_type": "markdown",
   "metadata": {},
   "source": [
    "# Naive Bayes (Suman Nokhwal)\n",
    "\n",
    "Naive Bayes (NB) is a very simple algorithm based around conditional probability and counting. \n",
    "Essentially, your model is actually a probability table that gets updated through your training data. \n",
    "To predict a new observation, you'd simply \"look up\" the class probabilities in your \"probability table\" based on its feature values.\n",
    "It's called \"naive\" because its core assumption of conditional independence (i.e. all input features are independent from one another)\n",
    "rarely holds true in the real world.\n",
    "\n",
    "Strengths: Even though the conditional independence assumption rarely holds true, NB models actually perform surprisingly well in practice, especially for how simple they are. \n",
    "           They are easy to implement and can scale with your dataset.\n",
    "\n",
    "Weaknesses: Due to their sheer simplicity, NB models are often beaten by models properly trained and tuned using the previous algorithms listed.\n",
    "\n",
    "Reference: \n",
    "http://scikit-learn.org/stable/modules/naive_bayes.html\n",
    "http://scikit-learn.org/stable/modules/generated/sklearn.naive_bayes.GaussianNB.html#sklearn.naive_bayes.GaussianNB"
   ]
  },
  {
   "cell_type": "code",
   "execution_count": 1,
   "metadata": {
    "collapsed": true
   },
   "outputs": [],
   "source": [
    "# Pretty display for notebooks\n",
    "%matplotlib inline\n",
    "\n",
    "import os\n",
    "import pandas as pd\n",
    "from matplotlib import pyplot as plt\n",
    "import numpy as np\n",
    "import math\n",
    "from time import time\n",
    "#import cPickle\n",
    "from IPython.display import display \n",
    "from sklearn.naive_bayes import GaussianNB\n",
    "from sklearn.model_selection import train_test_split\n",
    "# Import supplementary visualization code visuals.py\n",
    "#import visuals as vs\n",
    "import xlsxwriter\n",
    "from sklearn.metrics import precision_recall_fscore_support as score\n",
    "import _pickle as cPickle"
   ]
  },
  {
   "cell_type": "markdown",
   "metadata": {},
   "source": [
    "# Implement Naive Bayes\n",
    "test\n"
   ]
  },
  {
   "cell_type": "code",
   "execution_count": 2,
   "metadata": {
    "collapsed": true
   },
   "outputs": [],
   "source": [
    "df_onehot = pd.read_csv('data/ny_hmda_2015_minmax.csv', low_memory=False, header=0, delimiter=\",\")\n"
   ]
  },
  {
   "cell_type": "code",
   "execution_count": 3,
   "metadata": {
    "collapsed": true
   },
   "outputs": [],
   "source": [
    "num_rows = df_onehot.shape[0]\n",
    "num_col = df_onehot.shape[1] \n",
    "dataset = df_onehot.values\n",
    "X = dataset[:, 0:num_col]\n",
    "Y = dataset[:,0]"
   ]
  },
  {
   "cell_type": "code",
   "execution_count": 4,
   "metadata": {},
   "outputs": [
    {
     "name": "stdout",
     "output_type": "stream",
     "text": [
      "0.752138815784\n",
      "0.782811118364\n",
      "0.816534013458\n"
     ]
    }
   ],
   "source": [
    "x_minmax = np.array(df_onehot.drop(['action_taken'], 1))\n",
    "y_minmax = np.array(df_onehot['action_taken'])\n",
    "\n",
    "X_train, X_test, Y_train, Y_test = train_test_split(x_minmax, y_minmax, test_size=0.33, random_state=42)\n",
    "\n",
    "model = GaussianNB().fit(X_train, Y_train)\n",
    "\n",
    "accuracy = model.score(X_test,Y_test)\n",
    "print(accuracy)\n",
    "\n",
    "precision, recall, fscore, support = score(Y_test, model.predict(X_test),average=\"macro\")\n",
    "print(precision)\n",
    "print(recall)"
   ]
  },
  {
   "cell_type": "code",
   "execution_count": 5,
   "metadata": {},
   "outputs": [
    {
     "name": "stdout",
     "output_type": "stream",
     "text": [
      "0.752414678412\n",
      "0.783178182425\n",
      "0.816595710126\n"
     ]
    }
   ],
   "source": [
    "df = pd.read_csv('data/ny_hmda_2015_normalize.csv', low_memory=False, header=0, delimiter=\",\")\n",
    "x_normalize = np.array(df.drop(['action_taken'], 1))\n",
    "y_normalize = np.array(df['action_taken'])\n",
    "\n",
    "X_train, X_test, Y_train, Y_test = train_test_split(x_normalize, y_normalize, test_size=0.3, random_state=42)\n",
    "\n",
    "model =  GaussianNB().fit(X_train, Y_train)\n",
    "acc=model.score(X_test, Y_test)\n",
    "print(acc)\n",
    "\n",
    "precision, recall, fscore, support = score(Y_test, model.predict(X_test),average=\"macro\")\n",
    "print(precision)\n",
    "print(recall)"
   ]
  },
  {
   "cell_type": "code",
   "execution_count": 6,
   "metadata": {},
   "outputs": [
    {
     "name": "stdout",
     "output_type": "stream",
     "text": [
      "0.752414678412\n",
      "0.783178182425\n",
      "0.816595710126\n"
     ]
    }
   ],
   "source": [
    "df = pd.read_csv('data/ny_hmda_2015_robust.csv', low_memory=False, header=0, delimiter=\",\")\n",
    "x_robust = np.array(df.drop(['action_taken'], 1))\n",
    "y_robust = np.array(df['action_taken'])\n",
    "\n",
    "X_train, X_test, Y_train, Y_test = train_test_split(x_robust, y_robust, test_size=0.3, random_state=42)\n",
    "\n",
    "model =  GaussianNB().fit(X_train, Y_train)\n",
    "acc=model.score(X_test, Y_test)\n",
    "print(acc)\n",
    "\n",
    "precision, recall, fscore, support = score(Y_test, model.predict(X_test),average=\"macro\")\n",
    "print(precision)\n",
    "print(recall)"
   ]
  },
  {
   "cell_type": "code",
   "execution_count": 7,
   "metadata": {
    "collapsed": true
   },
   "outputs": [],
   "source": [
    "cPickle.dump(model,open('models/gaussian_nb_model.p', 'wb'))"
   ]
  },
  {
   "cell_type": "code",
   "execution_count": null,
   "metadata": {
    "collapsed": true
   },
   "outputs": [],
   "source": []
  }
 ],
 "metadata": {
  "kernelspec": {
   "display_name": "Python 3",
   "language": "python",
   "name": "python3"
  },
  "language_info": {
   "codemirror_mode": {
    "name": "ipython",
    "version": 3
   },
   "file_extension": ".py",
   "mimetype": "text/x-python",
   "name": "python",
   "nbconvert_exporter": "python",
   "pygments_lexer": "ipython3",
   "version": "3.6.2"
  }
 },
 "nbformat": 4,
 "nbformat_minor": 2
}
