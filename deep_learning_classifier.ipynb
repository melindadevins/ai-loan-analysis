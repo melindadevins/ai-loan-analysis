{
 "cells": [
  {
   "cell_type": "markdown",
   "metadata": {},
   "source": [
    "### Deep Learning Classifier (Melinda Xiao-Devins)\n",
    "\n",
    "Implement deep learning modle\n"
   ]
  },
  {
   "cell_type": "code",
   "execution_count": 122,
   "metadata": {},
   "outputs": [],
   "source": [
    "import numpy as np\n",
    "import pandas as pd\n",
    "from keras.models import Sequential\n",
    "from keras.layers import Dense\n",
    "from keras.wrappers.scikit_learn import KerasClassifier\n",
    "from sklearn.model_selection import cross_val_score\n",
    "from sklearn.preprocessing import LabelEncoder\n",
    "from sklearn.model_selection import StratifiedKFold\n",
    "from sklearn.preprocessing import StandardScaler\n",
    "from sklearn.preprocessing import MinMaxScaler\n",
    "from sklearn.preprocessing import Normalizer\n",
    "from sklearn.preprocessing import RobustScaler\n",
    "from sklearn.pipeline import Pipeline\n",
    "from sklearn.model_selection import train_test_split\n",
    "from keras.models import model_from_json\n",
    "import os"
   ]
  },
  {
   "cell_type": "code",
   "execution_count": 123,
   "metadata": {},
   "outputs": [
    {
     "name": "stdout",
     "output_type": "stream",
     "text": [
      "TensorFlow Version: 1.1.0\n",
      "Default GPU Device: /gpu:0\n"
     ]
    }
   ],
   "source": [
    "from distutils.version import LooseVersion\n",
    "import warnings\n",
    "import tensorflow as tf\n",
    "#from tensorflow.python.layers.core import Dense\n",
    "# Check TensorFlow Version\n",
    "assert LooseVersion(tf.__version__) >= LooseVersion('1.1'), 'Please use TensorFlow version 1.1 or newer'\n",
    "print('TensorFlow Version: {}'.format(tf.__version__))\n",
    "# Check for a GPU\n",
    "if not tf.test.gpu_device_name():\n",
    " warnings.warn('No GPU found. Please use a GPU to train your neural network.')\n",
    "else:\n",
    " print('Default GPU Device: {}'.format(tf.test.gpu_device_name()))"
   ]
  },
  {
   "cell_type": "code",
   "execution_count": 124,
   "metadata": {},
   "outputs": [],
   "source": [
    "# fix random seed for reproducibility\n",
    "seed = 7\n",
    "np.random.seed(seed)"
   ]
  },
  {
   "cell_type": "code",
   "execution_count": 125,
   "metadata": {},
   "outputs": [
    {
     "name": "stdout",
     "output_type": "stream",
     "text": [
      "Total number of records: 376516\n",
      "Toatl numver of features: 38\n"
     ]
    }
   ],
   "source": [
    "# load dataset\n",
    "#df = pd.read_csv('./data/ny_hmda_2015_normalize.csv', low_memory=False, header=0, delimiter=\",\")\n",
    "df = pd.read_csv('./data/ny_hmda_2015_normalize.csv', low_memory=False, header=0, delimiter=\",\")\n",
    "\n",
    "#print(dataframe.loc[:,:])\n",
    "num_rows = df.shape[0]\n",
    "num_col = df.shape[1]\n",
    "print (\"Total number of records: {}\".format(num_rows))\n",
    "print (\"Toatl numver of features: {}\".format(num_col))\n",
    "\n",
    "X = np.array(df.drop(['action_taken'],1)) \n",
    "Y = np.array(df['action_taken'])\n",
    "\n",
    "#Split into train and test set\n",
    "X_train, X_test, Y_train, Y_test = train_test_split(X, Y, test_size=0.2, random_state=42)"
   ]
  },
  {
   "cell_type": "code",
   "execution_count": 126,
   "metadata": {
    "collapsed": true
   },
   "outputs": [],
   "source": [
    "# Create a fully connected network with 4 layers\n",
    "model = Sequential()\n",
    "\n",
    "#input layer, it has 38 neurons, it must have right number of inputs, which is the number of features\n",
    "model.add(Dense(38, input_dim=num_col-1, kernel_initializer='normal', activation='relu'))\n",
    "\n",
    "# hideen layer has 32 neurons\n",
    "model.add(Dense(32, kernel_initializer='normal', activation='relu'))\n",
    "\n",
    "# hideen layer has 16 neurons\n",
    "model.add(Dense(16, kernel_initializer='normal', activation='relu'))\n",
    "\n",
    "# hideen layer has 8 neurons\n",
    "model.add(Dense(8, kernel_initializer='normal', activation='relu'))\n",
    "\n",
    "# output layer has 1 neuron to predict\n",
    "# Use sigmoid for output layer activation function to ensure network output is bw. 0 and 1\n",
    "model.add(Dense(1, kernel_initializer='normal', activation='sigmoid'))"
   ]
  },
  {
   "cell_type": "code",
   "execution_count": 127,
   "metadata": {
    "collapsed": true
   },
   "outputs": [],
   "source": [
    "#Compile model\n",
    "\n",
    "# loss function: logarithmic loss, which is binary_crossentropy for binary classification\n",
    "# use 'adam' optimizer for gradient descent algorithm \n",
    "# collect accuracy during training\n",
    "model.compile(loss='binary_crossentropy', optimizer='adam', metrics=['accuracy'])"
   ]
  },
  {
   "cell_type": "code",
   "execution_count": 128,
   "metadata": {},
   "outputs": [
    {
     "name": "stdout",
     "output_type": "stream",
     "text": [
      "Epoch 1/5\n",
      "301212/301212 [==============================] - 18s 59us/step - loss: 0.3568 - acc: 0.8127\n",
      "Epoch 2/5\n",
      "301212/301212 [==============================] - 14s 48us/step - loss: 0.3406 - acc: 0.8242\n",
      "Epoch 3/5\n",
      "301212/301212 [==============================] - 14s 47us/step - loss: 0.3374 - acc: 0.8278\n",
      "Epoch 4/5\n",
      "301212/301212 [==============================] - 16s 53us/step - loss: 0.3356 - acc: 0.8292\n",
      "Epoch 5/5\n",
      "301212/301212 [==============================] - 16s 53us/step - loss: 0.3337 - acc: 0.8299\n"
     ]
    },
    {
     "data": {
      "text/plain": [
       "<keras.callbacks.History at 0x1b4836d9e48>"
      ]
     },
     "execution_count": 128,
     "metadata": {},
     "output_type": "execute_result"
    }
   ],
   "source": [
    "# Train the model\n",
    "# epochs: a fixed number of iterations through the dataset\n",
    "# batch size: the number of instances that are evaluated before a weight update in the network is performed \n",
    "model.fit(X_train, Y_train, epochs = 5, batch_size=100)"
   ]
  },
  {
   "cell_type": "code",
   "execution_count": null,
   "metadata": {},
   "outputs": [
    {
     "name": "stdout",
     "output_type": "stream",
     "text": [
      "75304/75304 [==============================] - 5s 64us/step\n",
      "\n",
      "acc: 83.16%\n"
     ]
    }
   ],
   "source": [
    "# evaluate the model\n",
    "scores = model.evaluate(X_test, Y_test)\n",
    "print(\"\\n%s: %.2f%%\" % (model.metrics_names[1], scores[1]*100))"
   ]
  },
  {
   "cell_type": "code",
   "execution_count": null,
   "metadata": {},
   "outputs": [],
   "source": [
    "# calculate predictions\n",
    "predictions = model.predict(X)\n",
    "print(\"the prediction bw. 0 and 1\")\n",
    "print(predictions)\n",
    "\n",
    "# round predictions\n",
    "rounded = [round(x[0]) for x in predictions]\n",
    "print(\"the rounded prediction\")\n",
    "print(rounded[0:10])\n"
   ]
  },
  {
   "cell_type": "code",
   "execution_count": null,
   "metadata": {},
   "outputs": [],
   "source": [
    "from sklearn.metrics import precision_recall_fscore_support as score\n",
    "precision, recall, fscore, support = score(Y_test, [round(x[0]) for x in model.predict(X_test)],average=\"macro\")\n",
    "print(\"precision={}, recall={}, fscore={}, support={}\".format(precision, recall, fscore, support))\n"
   ]
  },
  {
   "cell_type": "markdown",
   "metadata": {
    "collapsed": true
   },
   "source": [
    "## Save Trained Model\n",
    "Save the trained model to disk"
   ]
  },
  {
   "cell_type": "code",
   "execution_count": null,
   "metadata": {},
   "outputs": [],
   "source": [
    " \n",
    "# serialize model to JSON\n",
    "model_json = model.to_json()\n",
    "with open(\"model/model.json\", \"w\") as json_file:\n",
    "    json_file.write(model_json)\n",
    "# serialize weights to HDF5\n",
    "model.save_weights(\"model/model.h5\")\n",
    "print(\"Saved model to disk\")"
   ]
  },
  {
   "cell_type": "markdown",
   "metadata": {
    "collapsed": true
   },
   "source": [
    "## Load Saved Model\n",
    "Load the saved model, and used it. It saves training time"
   ]
  },
  {
   "cell_type": "code",
   "execution_count": null,
   "metadata": {},
   "outputs": [],
   "source": [
    "# load json and create model\n",
    "json_file = open('model/model.json', 'r')\n",
    "loaded_model_json = json_file.read()\n",
    "json_file.close()\n",
    "loaded_model = model_from_json(loaded_model_json)\n",
    "# load weights into new model\n",
    "loaded_model.load_weights(\"model/model.h5\")\n",
    "print(\"Loaded model from disk\")\n",
    " \n",
    "print(\"Use loaded model to predict\")\n",
    "# evaluate loaded model on test data\n",
    "loaded_model.compile(loss='binary_crossentropy', optimizer='adam', metrics=['accuracy'])\n",
    "\n",
    "# calculate predictions\n",
    "predictions = model.predict(X)\n",
    "print(\"the prediction bw. 0 and 1\")\n",
    "print(predictions)\n",
    "\n",
    "# round predictions\n",
    "rounded = [round(x[0]) for x in predictions]\n",
    "print(\"the rounded prediction\")\n",
    "print(rounded[0:10])\n",
    "\n"
   ]
  },
  {
   "cell_type": "code",
   "execution_count": null,
   "metadata": {},
   "outputs": [],
   "source": [
    "score = loaded_model.evaluate(X, Y, verbose=0)\n",
    "print(\"From saved model,  %s: %.2f%%\" % (loaded_model.metrics_names[1], score[1]*100))\n",
    "\n"
   ]
  },
  {
   "cell_type": "code",
   "execution_count": null,
   "metadata": {},
   "outputs": [],
   "source": [
    "from sklearn.metrics import precision_recall_fscore_support as score\n",
    "precision, recall, fscore, support = score(Y_test, [round(x[0]) for x in model.predict(X_test)],average=\"macro\")\n",
    "print(\"precision={}, recall={}, fscore={}, support={}\".format(precision, recall, fscore, support))\n"
   ]
  },
  {
   "cell_type": "code",
   "execution_count": null,
   "metadata": {
    "collapsed": true
   },
   "outputs": [],
   "source": []
  }
 ],
 "metadata": {
  "kernelspec": {
   "display_name": "Python 3",
   "language": "python",
   "name": "python3"
  },
  "language_info": {
   "codemirror_mode": {
    "name": "ipython",
    "version": 3
   },
   "file_extension": ".py",
   "mimetype": "text/x-python",
   "name": "python",
   "nbconvert_exporter": "python",
   "pygments_lexer": "ipython3",
   "version": "3.5.4"
  }
 },
 "nbformat": 4,
 "nbformat_minor": 2
}
