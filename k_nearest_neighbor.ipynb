{
 "cells": [
  {
   "cell_type": "markdown",
   "metadata": {},
   "source": [
    "### K Nearest Neighbor (Tian Cheng)\n",
    "\n",
    "K nearest neighbors is a simple algorithm that stores all available cases and classifies new cases based on a similarity measure (such as distance).\n",
    "\n",
    "Strength:  Robus on noisy data and effective on large training dataset\n",
    "\n",
    "Weakness: Computation cost is high\n",
    "\n",
    "Reference: http://scikit-learn.org/stable/auto_examples/neighbors/plot_classification.html\n",
    "\n",
    "http://scikit-learn.org/stable/modules/generated/sklearn.neighbors.KNeighborsClassifier.html#sklearn.neighbors.KNeighborsClassifier\n"
   ]
  },
  {
   "cell_type": "markdown",
   "metadata": {
    "collapsed": true
   },
   "source": [
    "### Sample Code for KNN"
   ]
  },
  {
   "cell_type": "code",
   "execution_count": 6,
   "metadata": {},
   "outputs": [
    {
     "name": "stdout",
     "output_type": "stream",
     "text": [
      "0.985714285714\n"
     ]
    }
   ],
   "source": [
    "import numpy as np\n",
    "from sklearn import cross_validation, neighbors\n",
    "import pandas as pd\n",
    "\n",
    "# data soruce: https://archive.ics.uci.edu/ml/machine-learning-databases/breast-cancer-wisconsin/\n",
    "df = pd.read_csv('knnSampleData.txt')\n",
    "\n",
    "# drop the id column, no need for this line in our project\n",
    "df.drop(['id'], 1, inplace = True)\n",
    "# replace the \"?\" mark with -99999 in the sample data, no need for this line in our project\n",
    "df.replace('?', -99999, inplace = True)\n",
    "\n",
    "# x only contains feature columns, y is the label column\n",
    "x = np.array(df.drop(['class'],1)) \n",
    "y = np.array(df['class'])\n",
    "\n",
    "x_train, x_test, y_train, y_test = cross_validation.train_test_split(x,y,test_size = 0.2)\n",
    "\n",
    "clf = neighbors.KNeighborsClassifier()\n",
    "clf.fit(x_train,y_train)\n",
    "\n",
    "accuracy = clf.score(x_test,y_test)\n",
    "print(accuracy)\n",
    "\n"
   ]
  },
  {
   "cell_type": "code",
   "execution_count": null,
   "metadata": {
    "collapsed": true
   },
   "outputs": [],
   "source": []
  }
 ],
 "metadata": {
  "kernelspec": {
   "display_name": "Python 3",
   "language": "python",
   "name": "python3"
  },
  "language_info": {
   "codemirror_mode": {
    "name": "ipython",
    "version": 3
   },
   "file_extension": ".py",
   "mimetype": "text/x-python",
   "name": "python",
   "nbconvert_exporter": "python",
   "pygments_lexer": "ipython3",
   "version": "3.6.2"
  }
 },
 "nbformat": 4,
 "nbformat_minor": 2
}
