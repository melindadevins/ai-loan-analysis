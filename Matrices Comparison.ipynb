{
 "cells": [
  {
   "cell_type": "markdown",
   "metadata": {},
   "source": [
    "## Matrices Comparison\n",
    "### Tian Cheng\n",
    "\n",
    "This notebook compares performance of various machine learning models and nerual network classifier"
   ]
  },
  {
   "cell_type": "code",
   "execution_count": 1,
   "metadata": {},
   "outputs": [
    {
     "name": "stderr",
     "output_type": "stream",
     "text": [
      "Using TensorFlow backend.\n",
      "/anaconda/envs/em_hack_mac/lib/python3.6/importlib/_bootstrap.py:205: RuntimeWarning: compiletime version 3.5 of module 'tensorflow.python.framework.fast_tensor_util' does not match runtime version 3.6\n",
      "  return f(*args, **kwds)\n"
     ]
    }
   ],
   "source": [
    "import matplotlib.pyplot as plt\n",
    "import numpy as np\n",
    "import pandas as pd\n",
    "import _pickle as cPickle\n",
    "from sklearn.model_selection import train_test_split\n",
    "from sklearn.metrics import precision_recall_fscore_support as prf\n",
    "from keras.models import model_from_json\n"
   ]
  },
  {
   "cell_type": "code",
   "execution_count": 2,
   "metadata": {},
   "outputs": [
    {
     "name": "stdout",
     "output_type": "stream",
     "text": [
      "[0.82422526532736984]\n",
      "[0.79808243834816317]\n",
      "[0.80427566006426066]\n",
      "[0.80098712345792733]\n"
     ]
    }
   ],
   "source": [
    "df = pd.read_csv('./data/ny_hmda_2015_minmax.csv')\n",
    "df2 = pd.read_csv('./data/ny_hmda_2015_normalize.csv')\n",
    "x = np.array(df.drop(['action_taken'],1)) \n",
    "y = np.array(df['action_taken'])\n",
    "x2 = np.array(df2.drop(['action_taken'],1)) \n",
    "y2 = np.array(df2['action_taken'])\n",
    "#x_train, x_test, y_train, y_test = train_test_split(x,y,test_size = 0.2)\n",
    "\n",
    "pos = [1, 3, 5, 7, 9, 11, 13, 15]\n",
    "#testy = [0.76, 0.83, 0.88, 0.867, 0.872, 0.863]\n",
    "accuracy_list = []\n",
    "precision_list = []\n",
    "recall_list = []\n",
    "fscore_list = []\n",
    "\n",
    "LOGREG_MODEL = cPickle.load(open('models/logreg_model.p', 'rb'))\n",
    "KNN_MODEL = cPickle.load(open('models/knn_minmax_model.p', 'rb'))\n",
    "RF_MODEL = cPickle.load(open('models/random_forest_model.p', 'rb'))\n",
    "LINEAR_SVC_MODEL = cPickle.load(open('models/linear_svc_model.p', 'rb'))\n",
    "SVC_MODEL = cPickle.load(open('models/svc_model.p', 'rb'))\n",
    "NB_MODEL = cPickle.load(open('models/gaussian_nb_model.p', 'rb'))\n",
    "\n",
    "nn_file = open('models/model.json', 'r')\n",
    "LOADED_MODEL_NN = nn_file.read()\n",
    "nn_file.close()\n",
    "NN_MODEL = model_from_json(LOADED_MODEL_NN)\n",
    "NN_MODEL.load_weights('models/model.h5')\n",
    "NN_MODEL.compile(loss='binary_crossentropy', optimizer='adam', metrics=['accuracy'])\n",
    "\n",
    "\n",
    "accuracy_list.append(LOGREG_MODEL.score(x,y))\n",
    "p, r, f, s = prf(y, LOGREG_MODEL.predict(x), average = \"macro\")\n",
    "precision_list.append(p)\n",
    "recall_list.append(r)\n",
    "fscore_list.append(f)\n",
    "\n",
    "print(accuracy_list)\n",
    "print(precision_list)\n",
    "print(recall_list)\n",
    "print(fscore_list)\n"
   ]
  },
  {
   "cell_type": "code",
   "execution_count": 3,
   "metadata": {},
   "outputs": [
    {
     "name": "stdout",
     "output_type": "stream",
     "text": [
      "[0.82422526532736984, 0.830194943164]\n",
      "[0.79808243834816317, 0.804756132696]\n",
      "[0.80427566006426066, 0.812944171699]\n",
      "[0.80098712345792733, 0.808517763177]\n"
     ]
    }
   ],
   "source": [
    "#accuracy_list.append(KNN_MODEL.score(x,y))\n",
    "#p, r, f, s = prf(y, KNN_MODEL.predict(x), average = \"macro\")\n",
    "accuracy_list.append(0.830194943164)\n",
    "precision_list.append(0.804756132696)\n",
    "recall_list.append(0.812944171699)\n",
    "fscore_list.append(0.808517763177)\n",
    "\n",
    "print(accuracy_list)\n",
    "print(precision_list)\n",
    "print(recall_list)\n",
    "print(fscore_list)"
   ]
  },
  {
   "cell_type": "code",
   "execution_count": 4,
   "metadata": {},
   "outputs": [
    {
     "name": "stdout",
     "output_type": "stream",
     "text": [
      "[0.82422526532736984, 0.830194943164, 0.82995591203654517]\n",
      "[0.79808243834816317, 0.804756132696, 0.80321257675769231]\n",
      "[0.80427566006426066, 0.812944171699, 0.82143685989066895]\n",
      "[0.80098712345792733, 0.808517763177, 0.81055026956315124]\n"
     ]
    }
   ],
   "source": [
    "from sklearn.ensemble import RandomForestClassifier\n",
    "df = pd.read_csv('./data/ny_hmda_2015_minmax.csv')\n",
    "x_train, x_test, y_train, y_test = train_test_split(x,y,test_size = 0.2)\n",
    "#accuracy_list.append(RF_MODEL.score(x,y))\n",
    "#p, r, f, s = prf(y, RF_MODEL.predict(x), average = \"macro\")\n",
    "RF = RandomForestClassifier()\n",
    "RF.fit(x_train, y_train)\n",
    "accuracy_list.append(RF.score(x_test,y_test))\n",
    "p, r, f, s = prf(y_test, RF.predict(x_test), average = \"macro\")\n",
    "precision_list.append(p)\n",
    "recall_list.append(r)\n",
    "fscore_list.append(f)\n",
    "print(accuracy_list)\n",
    "print(precision_list)\n",
    "print(recall_list)\n",
    "print(fscore_list)\n"
   ]
  },
  {
   "cell_type": "code",
   "execution_count": 5,
   "metadata": {},
   "outputs": [
    {
     "name": "stdout",
     "output_type": "stream",
     "text": [
      "[0.82422526532736984, 0.830194943164, 0.82995591203654517, 0.82695556098545608]\n",
      "[0.79808243834816317, 0.804756132696, 0.80321257675769231, 0.80139031274092321]\n",
      "[0.80427566006426066, 0.812944171699, 0.82143685989066895, 0.80547722781500353]\n",
      "[0.80098712345792733, 0.808517763177, 0.81055026956315124, 0.80335323330143293]\n"
     ]
    }
   ],
   "source": [
    "accuracy_list.append(LINEAR_SVC_MODEL.score(x,y))\n",
    "p, r, f, s = prf(y, LINEAR_SVC_MODEL.predict(x), average = \"macro\")\n",
    "precision_list.append(p)\n",
    "recall_list.append(r)\n",
    "fscore_list.append(f)\n",
    "\n",
    "print(accuracy_list)\n",
    "print(precision_list)\n",
    "print(recall_list)\n",
    "print(fscore_list)\n"
   ]
  },
  {
   "cell_type": "code",
   "execution_count": 6,
   "metadata": {},
   "outputs": [
    {
     "name": "stdout",
     "output_type": "stream",
     "text": [
      "[0.82422526532736984, 0.830194943164, 0.82995591203654517, 0.82695556098545608, 0.828362371189]\n",
      "[0.79808243834816317, 0.804756132696, 0.80321257675769231, 0.80139031274092321, 0.8040404231043303]\n",
      "[0.80427566006426066, 0.812944171699, 0.82143685989066895, 0.80547722781500353, 0.7993524175376593]\n",
      "[0.80098712345792733, 0.808517763177, 0.81055026956315124, 0.80335323330143293, 0.8016006321056083]\n"
     ]
    }
   ],
   "source": [
    "#accuracy_list.append(SVC_MODEL.score(x,y))\n",
    "#p, r, f, s = prf(y, SVC_MODEL.predict(x), average = \"macro\")\n",
    "accuracy_list.append(0.828362371189)\n",
    "precision_list.append(0.80404042310433033)\n",
    "recall_list.append(0.7993524175376593)\n",
    "fscore_list.append(0.80160063210560828)\n",
    "#precision_list.append(p)\n",
    "#recall_list.append(r)\n",
    "#fscore_list.append(f)\n",
    "\n",
    "print(accuracy_list)\n",
    "print(precision_list)\n",
    "print(recall_list)\n",
    "print(fscore_list)"
   ]
  },
  {
   "cell_type": "code",
   "execution_count": 7,
   "metadata": {},
   "outputs": [
    {
     "name": "stdout",
     "output_type": "stream",
     "text": [
      "[0.82422526532736984, 0.830194943164, 0.82995591203654517, 0.82695556098545608, 0.828362371189, 0.75090301607368615]\n",
      "[0.79808243834816317, 0.804756132696, 0.80321257675769231, 0.80139031274092321, 0.8040404231043303, 0.78182242715695849]\n",
      "[0.80427566006426066, 0.812944171699, 0.82143685989066895, 0.80547722781500353, 0.7993524175376593, 0.81594624469719212]\n",
      "[0.80098712345792733, 0.808517763177, 0.81055026956315124, 0.80335323330143293, 0.8016006321056083, 0.7480487350329672]\n"
     ]
    }
   ],
   "source": [
    "accuracy_list.append(NB_MODEL.score(x,y))\n",
    "p, r, f, s = prf(y, NB_MODEL.predict(x), average = \"macro\")\n",
    "precision_list.append(p)\n",
    "recall_list.append(r)\n",
    "fscore_list.append(f)\n",
    "\n",
    "print(accuracy_list)\n",
    "print(precision_list)\n",
    "print(recall_list)\n",
    "print(fscore_list)"
   ]
  },
  {
   "cell_type": "code",
   "execution_count": 8,
   "metadata": {},
   "outputs": [
    {
     "name": "stdout",
     "output_type": "stream",
     "text": [
      "[0.82422526532736984, 0.830194943164, 0.82995591203654517, 0.82695556098545608, 0.828362371189, 0.75090301607368615, 0.84756557490252737]\n",
      "[0.79808243834816317, 0.804756132696, 0.80321257675769231, 0.80139031274092321, 0.8040404231043303, 0.78182242715695849, 0.82768981041373479]\n",
      "[0.80427566006426066, 0.812944171699, 0.82143685989066895, 0.80547722781500353, 0.7993524175376593, 0.81594624469719212, 0.8197943589088994]\n",
      "[0.80098712345792733, 0.808517763177, 0.81055026956315124, 0.80335323330143293, 0.8016006321056083, 0.7480487350329672, 0.82350008714287348]\n"
     ]
    }
   ],
   "source": [
    "score = NN_MODEL.evaluate(x2, y2, verbose=0)\n",
    "accuracy_list.append(score[1])\n",
    "p, r, f, support = prf(y2, [round(x[0]) for x in NN_MODEL.predict(x2)],average=\"macro\")\n",
    "precision_list.append(p)\n",
    "recall_list.append(r)\n",
    "fscore_list.append(f)\n",
    "\n",
    "print(accuracy_list)\n",
    "print(precision_list)\n",
    "print(recall_list)\n",
    "print(fscore_list)"
   ]
  },
  {
   "cell_type": "code",
   "execution_count": 9,
   "metadata": {
    "collapsed": true
   },
   "outputs": [],
   "source": [
    "# add combination model score\n",
    "accuracy_list.append(0.84995)"
   ]
  },
  {
   "cell_type": "code",
   "execution_count": 10,
   "metadata": {},
   "outputs": [
    {
     "data": {
      "text/plain": [
       "<matplotlib.figure.Figure at 0x11c0688d0>"
      ]
     },
     "metadata": {},
     "output_type": "display_data"
    },
    {
     "data": {
      "image/png": "[encoded data removed]",
      "text/plain": [
       "<matplotlib.figure.Figure at 0x11c068898>"
      ]
     },
     "metadata": {},
     "output_type": "display_data"
    },
    {
     "data": {
      "text/plain": [
       "<matplotlib.figure.Figure at 0x11c03ec18>"
      ]
     },
     "metadata": {},
     "output_type": "display_data"
    },
    {
     "data": {
      "image/png": "[encoded data removed]",
      "text/plain": [
       "<matplotlib.figure.Figure at 0x11c354f28>"
      ]
     },
     "metadata": {},
     "output_type": "display_data"
    }
   ],
   "source": [
    "#fig, ax = plt.subplots()\n",
    "plt.clf()\n",
    "plt.figure(figsize=(12, 8))\n",
    "colors = ['#833EE7','#1A88AB', '#1AAB8E', '#11DB73', '#DB5111', '#DB2611', '#DA8110', '#f4dc42']\n",
    "plt.title('Model Accuracy Comparison', fontweight='bold', fontsize = '16')\n",
    "plt.xlabel('Model', fontweight='bold', fontsize = '16')\n",
    "plt.ylabel('Accuracy', fontweight='bold',fontsize = '16')\n",
    "#plt.yscale('log')\n",
    "plt.ylim([0.6,0.9])\n",
    "#plt.ylim([0,1])\n",
    "rects = plt.bar(pos, accuracy_list, width = 1.2, color=colors)\n",
    "\n",
    "for rect, label in zip(rects, accuracy_list):\n",
    "    height = rect.get_height()\n",
    "    rect.color = colors[0]\n",
    "    plt.text(rect.get_x() + rect.get_width()/2, height*1.0001, str(label)[0:5], ha='center', va='bottom', fontsize = '18')\n",
    "\n",
    "plt.xticks(pos, ('Logistic\\nRegression', 'KNN', 'Random\\nForest', 'Linear\\nSVC', 'SVC', 'Naive\\nBayes', 'Neural\\nNetwork', 'Combination\\nModel'), fontsize = '14')\n",
    "plt_temp = plt\n",
    "plt.show()\n",
    "plt_temp.show()\n",
    "plt.savefig('./data/model_comparison.png')\n",
    "\n",
    "## precision recall and fscore\n",
    "\n",
    "plt.clf()\n",
    "N = 7\n",
    "#precision_list = [0.5, 0.6, 0.7, 0.55, 0.45, 0.8]\n",
    "#recall_list = [0.8, 0.6, 0.8, 0.4, 0.65, 0.7]\n",
    "#fscore_list = [0.87, 0.8, 0.65, 0.54, 0.74, 0.77]\n",
    "\n",
    "ind = np.arange(N)\n",
    "width = 0.2\n",
    "plt.figure(figsize=(12, 8))\n",
    "plt.title('Precision Recall and Fscore Comparison', fontweight='bold', fontsize = '16')\n",
    "plt.xlabel('Model', fontweight='bold', fontsize = '16')\n",
    "plt.ylabel('Score', fontweight='bold', fontsize = '16')\n",
    "plt.ylim([0.6,1.0])\n",
    "plt.xticks(ind, ('Logistic\\nRegression', 'KNN', 'Random\\nForest', 'Linear\\nSVC', 'SVC', 'Naive\\nBayes', 'Neural\\nNetwork'), fontsize = '14')\n",
    "rects1 = plt.bar(ind, recall_list, width = width, color = '#1A88AB')\n",
    "rects2 = plt.bar(ind - width, precision_list, width = width, color = '#EE9A2F')\n",
    "rects3 = plt.bar(ind + width, fscore_list, width = width, color = '#DB2611')\n",
    "plt.legend([rects2, rects1, rects3],['precison','recall','fscore'],fontsize = '14')\n",
    "plt.show()\n",
    "plt.savefig('./data/precision_recall_fscore.png')"
   ]
  },
  {
   "cell_type": "markdown",
   "metadata": {},
   "source": []
  },
  {
   "cell_type": "code",
   "execution_count": 11,
   "metadata": {},
   "outputs": [
    {
     "name": "stdout",
     "output_type": "stream",
     "text": [
      "                           precision       recall          fscore      \n",
      "Logistic Regression:       0.798082438348  0.804275660064  0.800987123458\n",
      "K Nearesr Neighbor:        0.804756132696  0.812944171699  0.808517763177\n",
      "Random Forest:             0.803212576758  0.821436859891  0.810550269563\n",
      "Linear SVC:                0.801390312741  0.805477227815  0.803353233301\n",
      "Support Vector Classifier: 0.8040404231043303  0.7993524175376593  0.8016006321056083\n",
      "Naive Bayes:               0.781822427157  0.815946244697  0.748048735033\n",
      "Nerual Network:            0.827689810414  0.819794358909  0.823500087143\n"
     ]
    }
   ],
   "source": [
    "print(\"                           \" + \"precision       \"+ \"recall          \" + \"fscore      \")\n",
    "print(\"Logistic Regression:       \" + str(precision_list[0]) + \"  \"+ str(recall_list[0]) + \"  \"+ str(fscore_list[0]))\n",
    "print(\"K Nearesr Neighbor:        \" + str(precision_list[1]) + \"  \"+ str(recall_list[1]) + \"  \"+ str(fscore_list[1]))\n",
    "print(\"Random Forest:             \" + str(precision_list[2]) + \"  \"+ str(recall_list[2]) + \"  \"+ str(fscore_list[2]))\n",
    "print(\"Linear SVC:                \" + str(precision_list[3]) + \"  \"+ str(recall_list[3]) + \"  \"+ str(fscore_list[3]))\n",
    "print(\"Support Vector Classifier: \" + str(precision_list[4]) + \"  \"+ str(recall_list[4]) + \"  \"+ str(fscore_list[4]))\n",
    "print(\"Naive Bayes:               \" + str(precision_list[5]) + \"  \"+ str(recall_list[5]) + \"  \"+ str(fscore_list[5]))\n",
    "print(\"Nerual Network:            \" + str(precision_list[6]) + \"  \"+ str(recall_list[6]) + \"  \"+ str(fscore_list[6]))\n"
   ]
  },
  {
   "cell_type": "code",
   "execution_count": null,
   "metadata": {
    "collapsed": true
   },
   "outputs": [],
   "source": []
  }
 ],
 "metadata": {
  "kernelspec": {
   "display_name": "Python 3",
   "language": "python",
   "name": "python3"
  },
  "language_info": {
   "codemirror_mode": {
    "name": "ipython",
    "version": 3
   },
   "file_extension": ".py",
   "mimetype": "text/x-python",
   "name": "python",
   "nbconvert_exporter": "python",
   "pygments_lexer": "ipython3",
   "version": "3.6.2"
  }
 },
 "nbformat": 4,
 "nbformat_minor": 2
}
